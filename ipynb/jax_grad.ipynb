{
 "cells": [
  {
   "cell_type": "markdown",
   "id": "465906e3",
   "metadata": {},
   "source": [
    "# JAX differentiation"
   ]
  },
  {
   "cell_type": "code",
   "execution_count": 22,
   "id": "a1f01ceb",
   "metadata": {},
   "outputs": [],
   "source": [
    "import jax.numpy as jnp\n",
    "from jax import grad, jit, vmap\n",
    "from jax import random"
   ]
  },
  {
   "cell_type": "markdown",
   "id": "c85ce093",
   "metadata": {},
   "source": [
    "## Scalar function"
   ]
  },
  {
   "cell_type": "code",
   "execution_count": 23,
   "id": "7acdb387",
   "metadata": {},
   "outputs": [],
   "source": [
    "def simplefun(x,w):\n",
    "    return (x + w) * x**2"
   ]
  },
  {
   "cell_type": "code",
   "execution_count": 8,
   "id": "d1d10f39",
   "metadata": {},
   "outputs": [
    {
     "name": "stdout",
     "output_type": "stream",
     "text": [
      "33.0\n",
      "9.0\n"
     ]
    }
   ],
   "source": [
    "# gradient\n",
    "x = jnp.array(3.0)\n",
    "w = jnp.array(1.0)\n",
    "x_grad = grad(simplefun, argnums=0)(x,w)\n",
    "w_grad = grad(simplefun, argnums=1)(x,w)\n",
    "print(x_grad)\n",
    "print(w_grad)"
   ]
  },
  {
   "cell_type": "markdown",
   "id": "7cb13c97",
   "metadata": {},
   "source": [
    "## Vector function"
   ]
  },
  {
   "cell_type": "markdown",
   "id": "ef224d87",
   "metadata": {},
   "source": [
    "From the [documentation](https://jax.readthedocs.io/en/latest/notebooks/autodiff_cookbook.html): These two functions (`jacfwd`, `jacrev`) compute the same values (up to machine numerics), but differ in their implementation: jacfwd uses forward-mode automatic differentiation, which is more efficient for “tall” Jacobian matrices, while jacrev uses reverse-mode, which is more efficient for “wide” Jacobian matrices."
   ]
  },
  {
   "cell_type": "code",
   "execution_count": 13,
   "id": "b14bca25",
   "metadata": {},
   "outputs": [
    {
     "name": "stdout",
     "output_type": "stream",
     "text": [
      "jacrev result:\n",
      "[[33.   0.   0. ]\n",
      " [ 0.   1.   0. ]\n",
      " [ 0.   0.  20.8]]\n",
      "[[9. 0. 0.]\n",
      " [0. 1. 0.]\n",
      " [0. 0. 4.]]\n",
      "\n",
      "jacfwd result:\n",
      "[[33.   0.   0. ]\n",
      " [ 0.   1.   0. ]\n",
      " [ 0.   0.  20.8]]\n",
      "[[9. 0. 0.]\n",
      " [0. 1. 0.]\n",
      " [0. 0. 4.]]\n"
     ]
    }
   ],
   "source": [
    "from jax import jacfwd, jacrev\n",
    "x = jnp.array([3.0, 1.0, 2.0])\n",
    "w = jnp.array([1.0, -1.0, 2.2])\n",
    "x_grad = jacrev(simplefun, argnums=0)(x,w)\n",
    "w_grad = jacrev(simplefun, argnums=1)(x,w)\n",
    "print(\"jacrev result:\")\n",
    "print(x_grad)\n",
    "print(w_grad)\n",
    "\n",
    "print(\"\\njacfwd result:\")\n",
    "x_grad = jacfwd(simplefun, argnums=0)(x,w)\n",
    "w_grad = jacfwd(simplefun, argnums=1)(x,w)\n",
    "print(x_grad)\n",
    "print(w_grad)"
   ]
  },
  {
   "cell_type": "markdown",
   "id": "1d69381f",
   "metadata": {},
   "source": [
    "## How Far Can This Go?"
   ]
  },
  {
   "cell_type": "markdown",
   "id": "c4bcb753",
   "metadata": {},
   "source": [
    "The answer is: as far as you'd like! That is the real tensor-based Jacobian that is implemented. I am not going to do it, because I don't know the math."
   ]
  },
  {
   "cell_type": "code",
   "execution_count": 19,
   "id": "7cce45d1",
   "metadata": {},
   "outputs": [
    {
     "name": "stdout",
     "output_type": "stream",
     "text": [
      "[[[[ 5.0000000e+00  0.0000000e+00  0.0000000e+00]\n",
      "   [ 0.0000000e+00  0.0000000e+00  0.0000000e+00]\n",
      "   [ 0.0000000e+00  0.0000000e+00  0.0000000e+00]]\n",
      "\n",
      "  [[ 0.0000000e+00  4.0000000e+01  0.0000000e+00]\n",
      "   [ 0.0000000e+00  0.0000000e+00  0.0000000e+00]\n",
      "   [ 0.0000000e+00  0.0000000e+00  0.0000000e+00]]\n",
      "\n",
      "  [[ 0.0000000e+00  0.0000000e+00  4.0199997e+01]\n",
      "   [ 0.0000000e+00  0.0000000e+00  0.0000000e+00]\n",
      "   [ 0.0000000e+00  0.0000000e+00  0.0000000e+00]]]\n",
      "\n",
      "\n",
      " [[[ 0.0000000e+00  0.0000000e+00  0.0000000e+00]\n",
      "   [ 4.5600000e+02  0.0000000e+00  0.0000000e+00]\n",
      "   [ 0.0000000e+00  0.0000000e+00  0.0000000e+00]]\n",
      "\n",
      "  [[ 0.0000000e+00  0.0000000e+00  0.0000000e+00]\n",
      "   [ 0.0000000e+00  5.2080000e+03  0.0000000e+00]\n",
      "   [ 0.0000000e+00  0.0000000e+00  0.0000000e+00]]\n",
      "\n",
      "  [[ 0.0000000e+00  0.0000000e+00  0.0000000e+00]\n",
      "   [ 0.0000000e+00  0.0000000e+00 -1.4000001e+00]\n",
      "   [ 0.0000000e+00  0.0000000e+00  0.0000000e+00]]]\n",
      "\n",
      "\n",
      " [[[ 0.0000000e+00  0.0000000e+00  0.0000000e+00]\n",
      "   [ 0.0000000e+00  0.0000000e+00  0.0000000e+00]\n",
      "   [-2.5000000e-01  0.0000000e+00  0.0000000e+00]]\n",
      "\n",
      "  [[ 0.0000000e+00  0.0000000e+00  0.0000000e+00]\n",
      "   [ 0.0000000e+00  0.0000000e+00  0.0000000e+00]\n",
      "   [ 0.0000000e+00  1.6000000e+01  0.0000000e+00]]\n",
      "\n",
      "  [[ 0.0000000e+00  0.0000000e+00  0.0000000e+00]\n",
      "   [ 0.0000000e+00  0.0000000e+00  0.0000000e+00]\n",
      "   [ 0.0000000e+00  0.0000000e+00  4.0199997e+01]]]]\n",
      "(3, 3, 3, 3)\n"
     ]
    }
   ],
   "source": [
    "x = jnp.array([[1.,4.,3.],\n",
    "               [12.,42.,-1.],\n",
    "               [-.5, -2, 3]])\n",
    "w = jnp.array([1.0, -1.0, 2.2])\n",
    "x_grad = jacrev(simplefun, argnums=0)(x,w)\n",
    "print(x_grad)\n",
    "print(x_grad.shape)"
   ]
  },
  {
   "cell_type": "code",
   "execution_count": 22,
   "id": "4b8112d1",
   "metadata": {},
   "outputs": [
    {
     "name": "stdout",
     "output_type": "stream",
     "text": [
      "[[[[[[ 5.0000000e+00  0.0000000e+00  0.0000000e+00]\n",
      "     [ 0.0000000e+00  0.0000000e+00  0.0000000e+00]\n",
      "     [ 0.0000000e+00  0.0000000e+00  0.0000000e+00]]\n",
      "\n",
      "    [[ 0.0000000e+00  0.0000000e+00  0.0000000e+00]\n",
      "     [ 0.0000000e+00  0.0000000e+00  0.0000000e+00]\n",
      "     [ 0.0000000e+00  0.0000000e+00  0.0000000e+00]]]\n",
      "\n",
      "\n",
      "   [[[ 0.0000000e+00  4.0000000e+01  0.0000000e+00]\n",
      "     [ 0.0000000e+00  0.0000000e+00  0.0000000e+00]\n",
      "     [ 0.0000000e+00  0.0000000e+00  0.0000000e+00]]\n",
      "\n",
      "    [[ 0.0000000e+00  0.0000000e+00  0.0000000e+00]\n",
      "     [ 0.0000000e+00  0.0000000e+00  0.0000000e+00]\n",
      "     [ 0.0000000e+00  0.0000000e+00  0.0000000e+00]]]\n",
      "\n",
      "\n",
      "   [[[ 0.0000000e+00  0.0000000e+00  4.0199997e+01]\n",
      "     [ 0.0000000e+00  0.0000000e+00  0.0000000e+00]\n",
      "     [ 0.0000000e+00  0.0000000e+00  0.0000000e+00]]\n",
      "\n",
      "    [[ 0.0000000e+00  0.0000000e+00  0.0000000e+00]\n",
      "     [ 0.0000000e+00  0.0000000e+00  0.0000000e+00]\n",
      "     [ 0.0000000e+00  0.0000000e+00  0.0000000e+00]]]]\n",
      "\n",
      "\n",
      "\n",
      "  [[[[ 0.0000000e+00  0.0000000e+00  0.0000000e+00]\n",
      "     [ 4.5600000e+02  0.0000000e+00  0.0000000e+00]\n",
      "     [ 0.0000000e+00  0.0000000e+00  0.0000000e+00]]\n",
      "\n",
      "    [[ 0.0000000e+00  0.0000000e+00  0.0000000e+00]\n",
      "     [ 0.0000000e+00  0.0000000e+00  0.0000000e+00]\n",
      "     [ 0.0000000e+00  0.0000000e+00  0.0000000e+00]]]\n",
      "\n",
      "\n",
      "   [[[ 0.0000000e+00  0.0000000e+00  0.0000000e+00]\n",
      "     [ 0.0000000e+00  5.2080000e+03  0.0000000e+00]\n",
      "     [ 0.0000000e+00  0.0000000e+00  0.0000000e+00]]\n",
      "\n",
      "    [[ 0.0000000e+00  0.0000000e+00  0.0000000e+00]\n",
      "     [ 0.0000000e+00  0.0000000e+00  0.0000000e+00]\n",
      "     [ 0.0000000e+00  0.0000000e+00  0.0000000e+00]]]\n",
      "\n",
      "\n",
      "   [[[ 0.0000000e+00  0.0000000e+00  0.0000000e+00]\n",
      "     [ 0.0000000e+00  0.0000000e+00 -1.4000001e+00]\n",
      "     [ 0.0000000e+00  0.0000000e+00  0.0000000e+00]]\n",
      "\n",
      "    [[ 0.0000000e+00  0.0000000e+00  0.0000000e+00]\n",
      "     [ 0.0000000e+00  0.0000000e+00  0.0000000e+00]\n",
      "     [ 0.0000000e+00  0.0000000e+00  0.0000000e+00]]]]\n",
      "\n",
      "\n",
      "\n",
      "  [[[[ 0.0000000e+00  0.0000000e+00  0.0000000e+00]\n",
      "     [ 0.0000000e+00  0.0000000e+00  0.0000000e+00]\n",
      "     [-2.5000000e-01  0.0000000e+00  0.0000000e+00]]\n",
      "\n",
      "    [[ 0.0000000e+00  0.0000000e+00  0.0000000e+00]\n",
      "     [ 0.0000000e+00  0.0000000e+00  0.0000000e+00]\n",
      "     [ 0.0000000e+00  0.0000000e+00  0.0000000e+00]]]\n",
      "\n",
      "\n",
      "   [[[ 0.0000000e+00  0.0000000e+00  0.0000000e+00]\n",
      "     [ 0.0000000e+00  0.0000000e+00  0.0000000e+00]\n",
      "     [ 0.0000000e+00  1.6000000e+01  0.0000000e+00]]\n",
      "\n",
      "    [[ 0.0000000e+00  0.0000000e+00  0.0000000e+00]\n",
      "     [ 0.0000000e+00  0.0000000e+00  0.0000000e+00]\n",
      "     [ 0.0000000e+00  0.0000000e+00  0.0000000e+00]]]\n",
      "\n",
      "\n",
      "   [[[ 0.0000000e+00  0.0000000e+00  0.0000000e+00]\n",
      "     [ 0.0000000e+00  0.0000000e+00  0.0000000e+00]\n",
      "     [ 0.0000000e+00  0.0000000e+00  4.0199997e+01]]\n",
      "\n",
      "    [[ 0.0000000e+00  0.0000000e+00  0.0000000e+00]\n",
      "     [ 0.0000000e+00  0.0000000e+00  0.0000000e+00]\n",
      "     [ 0.0000000e+00  0.0000000e+00  0.0000000e+00]]]]]\n",
      "\n",
      "\n",
      "\n",
      "\n",
      " [[[[[ 0.0000000e+00  0.0000000e+00  0.0000000e+00]\n",
      "     [ 0.0000000e+00  0.0000000e+00  0.0000000e+00]\n",
      "     [ 0.0000000e+00  0.0000000e+00  0.0000000e+00]]\n",
      "\n",
      "    [[ 8.5000000e+01  0.0000000e+00  0.0000000e+00]\n",
      "     [ 0.0000000e+00  0.0000000e+00  0.0000000e+00]\n",
      "     [ 0.0000000e+00  0.0000000e+00  0.0000000e+00]]]\n",
      "\n",
      "\n",
      "   [[[ 0.0000000e+00  0.0000000e+00  0.0000000e+00]\n",
      "     [ 0.0000000e+00  0.0000000e+00  0.0000000e+00]\n",
      "     [ 0.0000000e+00  0.0000000e+00  0.0000000e+00]]\n",
      "\n",
      "    [[ 0.0000000e+00  4.0000000e+01  0.0000000e+00]\n",
      "     [ 0.0000000e+00  0.0000000e+00  0.0000000e+00]\n",
      "     [ 0.0000000e+00  0.0000000e+00  0.0000000e+00]]]\n",
      "\n",
      "\n",
      "   [[[ 0.0000000e+00  0.0000000e+00  0.0000000e+00]\n",
      "     [ 0.0000000e+00  0.0000000e+00  0.0000000e+00]\n",
      "     [ 0.0000000e+00  0.0000000e+00  0.0000000e+00]]\n",
      "\n",
      "    [[ 0.0000000e+00  0.0000000e+00  4.0199997e+01]\n",
      "     [ 0.0000000e+00  0.0000000e+00  0.0000000e+00]\n",
      "     [ 0.0000000e+00  0.0000000e+00  0.0000000e+00]]]]\n",
      "\n",
      "\n",
      "\n",
      "  [[[[ 0.0000000e+00  0.0000000e+00  0.0000000e+00]\n",
      "     [ 0.0000000e+00  0.0000000e+00  0.0000000e+00]\n",
      "     [ 0.0000000e+00  0.0000000e+00  0.0000000e+00]]\n",
      "\n",
      "    [[ 0.0000000e+00  0.0000000e+00  0.0000000e+00]\n",
      "     [ 1.1210000e+03  0.0000000e+00  0.0000000e+00]\n",
      "     [ 0.0000000e+00  0.0000000e+00  0.0000000e+00]]]\n",
      "\n",
      "\n",
      "   [[[ 0.0000000e+00  0.0000000e+00  0.0000000e+00]\n",
      "     [ 0.0000000e+00  0.0000000e+00  0.0000000e+00]\n",
      "     [ 0.0000000e+00  0.0000000e+00  0.0000000e+00]]\n",
      "\n",
      "    [[ 0.0000000e+00  0.0000000e+00  0.0000000e+00]\n",
      "     [ 0.0000000e+00  3.0080000e+03  0.0000000e+00]\n",
      "     [ 0.0000000e+00  0.0000000e+00  0.0000000e+00]]]\n",
      "\n",
      "\n",
      "   [[[ 0.0000000e+00  0.0000000e+00  0.0000000e+00]\n",
      "     [ 0.0000000e+00  0.0000000e+00  0.0000000e+00]\n",
      "     [ 0.0000000e+00  0.0000000e+00  0.0000000e+00]]\n",
      "\n",
      "    [[ 0.0000000e+00  0.0000000e+00  0.0000000e+00]\n",
      "     [ 0.0000000e+00  0.0000000e+00 -1.4000001e+00]\n",
      "     [ 0.0000000e+00  0.0000000e+00  0.0000000e+00]]]]\n",
      "\n",
      "\n",
      "\n",
      "  [[[[ 0.0000000e+00  0.0000000e+00  0.0000000e+00]\n",
      "     [ 0.0000000e+00  0.0000000e+00  0.0000000e+00]\n",
      "     [ 0.0000000e+00  0.0000000e+00  0.0000000e+00]]\n",
      "\n",
      "    [[ 0.0000000e+00  0.0000000e+00  0.0000000e+00]\n",
      "     [ 0.0000000e+00  0.0000000e+00  0.0000000e+00]\n",
      "     [-2.5000000e-01  0.0000000e+00  0.0000000e+00]]]\n",
      "\n",
      "\n",
      "   [[[ 0.0000000e+00  0.0000000e+00  0.0000000e+00]\n",
      "     [ 0.0000000e+00  0.0000000e+00  0.0000000e+00]\n",
      "     [ 0.0000000e+00  0.0000000e+00  0.0000000e+00]]\n",
      "\n",
      "    [[ 0.0000000e+00  0.0000000e+00  0.0000000e+00]\n",
      "     [ 0.0000000e+00  0.0000000e+00  0.0000000e+00]\n",
      "     [ 0.0000000e+00  2.4699998e+00  0.0000000e+00]]]\n",
      "\n",
      "\n",
      "   [[[ 0.0000000e+00  0.0000000e+00  0.0000000e+00]\n",
      "     [ 0.0000000e+00  0.0000000e+00  0.0000000e+00]\n",
      "     [ 0.0000000e+00  0.0000000e+00  0.0000000e+00]]\n",
      "\n",
      "    [[ 0.0000000e+00  0.0000000e+00  0.0000000e+00]\n",
      "     [ 0.0000000e+00  0.0000000e+00  0.0000000e+00]\n",
      "     [ 0.0000000e+00  0.0000000e+00  4.0199997e+01]]]]]]\n",
      "(2, 3, 3, 2, 3, 3)\n"
     ]
    }
   ],
   "source": [
    "x = jnp.array([[[1.,4.,3.],\n",
    "                [12.,42.,-1.],\n",
    "                [-.5, -2, 3]],\n",
    "              \n",
    "               [[5.,4.,3.],\n",
    "                [19.,32.,-1.],\n",
    "                [-.5, 1.3, 3]]])\n",
    "w = jnp.array([1.0, -1.0, 2.2])\n",
    "x_grad = jacrev(simplefun, argnums=0)(x,w)\n",
    "print(x_grad)\n",
    "print(x_grad.shape)"
   ]
  },
  {
   "cell_type": "markdown",
   "id": "4351b2c0",
   "metadata": {},
   "source": [
    "# JAX Jacobian for Operations"
   ]
  },
  {
   "cell_type": "markdown",
   "id": "12844ad0",
   "metadata": {},
   "source": [
    "This is so simple and cool!"
   ]
  },
  {
   "cell_type": "code",
   "execution_count": 23,
   "id": "c60cbe94",
   "metadata": {},
   "outputs": [],
   "source": [
    "def multiply(a,b):\n",
    "    return jnp.dot(a, b)"
   ]
  },
  {
   "cell_type": "code",
   "execution_count": 27,
   "id": "c69b0bf7",
   "metadata": {},
   "outputs": [
    {
     "data": {
      "text/plain": [
       "<function __main__.multiply(a, b)>"
      ]
     },
     "execution_count": 27,
     "metadata": {},
     "output_type": "execute_result"
    }
   ],
   "source": [
    "grad(multiply)"
   ]
  },
  {
   "cell_type": "code",
   "execution_count": 30,
   "id": "79cf83e4",
   "metadata": {},
   "outputs": [
    {
     "data": {
      "text/plain": [
       "DeviceArray([3., 4.], dtype=float32)"
      ]
     },
     "execution_count": 30,
     "metadata": {},
     "output_type": "execute_result"
    }
   ],
   "source": [
    "grad(multiply)(jnp.array([1.,2.]), jnp.array([3.,4]))"
   ]
  },
  {
   "cell_type": "code",
   "execution_count": 31,
   "id": "381e7bc7",
   "metadata": {},
   "outputs": [
    {
     "data": {
      "text/plain": [
       "<function jax._src.api.grad(fun: Callable, argnums: Union[int, Sequence[int]] = 0, has_aux: bool = False, holomorphic: bool = False, allow_int: bool = False, reduce_axes: Sequence[Any] = ()) -> Callable>"
      ]
     },
     "execution_count": 31,
     "metadata": {},
     "output_type": "execute_result"
    }
   ],
   "source": [
    "import jax\n",
    "jax.grad"
   ]
  },
  {
   "cell_type": "markdown",
   "id": "5375b5cc",
   "metadata": {},
   "source": [
    "# Some other tests"
   ]
  },
  {
   "cell_type": "code",
   "execution_count": 40,
   "id": "b38770f6",
   "metadata": {},
   "outputs": [
    {
     "name": "stdout",
     "output_type": "stream",
     "text": [
      "jacrev result:\n",
      "[[33.  0.  0.]\n",
      " [ 0. 56.  0.]\n",
      " [ 0.  0. 85.]]\n",
      "[[ 9.]\n",
      " [16.]\n",
      " [25.]]\n",
      "\n",
      "jacfwd result:\n",
      "[[33.  0.  0.]\n",
      " [ 0. 56.  0.]\n",
      " [ 0.  0. 85.]]\n",
      "[[ 9.]\n",
      " [16.]\n",
      " [25.]]\n"
     ]
    }
   ],
   "source": [
    "from jax import jacfwd, jacrev\n",
    "x = jnp.array([3., 4., 5.])\n",
    "w = jnp.array([1.0])\n",
    "x_grad = jacrev(simplefun, argnums=0)(x,w)\n",
    "w_grad = jacrev(simplefun, argnums=1)(x,w)\n",
    "print(\"jacrev result:\")\n",
    "print(x_grad)\n",
    "print(w_grad)\n",
    "\n",
    "print(\"\\njacfwd result:\")\n",
    "x_grad = jacfwd(simplefun, argnums=0)(x,w)\n",
    "w_grad = jacfwd(simplefun, argnums=1)(x,w)\n",
    "print(x_grad)\n",
    "print(w_grad)"
   ]
  },
  {
   "cell_type": "code",
   "execution_count": 33,
   "id": "d8254864",
   "metadata": {},
   "outputs": [
    {
     "data": {
      "text/plain": [
       "DeviceArray([ 36.,  80., 150.], dtype=float32)"
      ]
     },
     "execution_count": 33,
     "metadata": {},
     "output_type": "execute_result"
    }
   ],
   "source": [
    "simplefun(x,w)"
   ]
  },
  {
   "cell_type": "code",
   "execution_count": 34,
   "id": "10e51bef",
   "metadata": {},
   "outputs": [
    {
     "data": {
      "text/plain": [
       "DeviceArray([4., 5., 6.], dtype=float32)"
      ]
     },
     "execution_count": 34,
     "metadata": {},
     "output_type": "execute_result"
    }
   ],
   "source": [
    "x+w"
   ]
  },
  {
   "cell_type": "code",
   "execution_count": 35,
   "id": "4ca08aff",
   "metadata": {},
   "outputs": [
    {
     "data": {
      "text/plain": [
       "DeviceArray([ 9., 16., 25.], dtype=float32)"
      ]
     },
     "execution_count": 35,
     "metadata": {},
     "output_type": "execute_result"
    }
   ],
   "source": [
    "x**2"
   ]
  },
  {
   "cell_type": "code",
   "execution_count": 38,
   "id": "d238e34e",
   "metadata": {
    "scrolled": true
   },
   "outputs": [
    {
     "name": "stdout",
     "output_type": "stream",
     "text": [
      "[[  36.   80.  150.]\n",
      " [ 150.  576. 1100.]\n",
      " [  36.   36. -294.]]\n",
      "jacrev result:\n",
      "[[[[ 33.   0.   0.]\n",
      "   [  0.   0.   0.]\n",
      "   [  0.   0.   0.]]\n",
      "\n",
      "  [[  0.  56.   0.]\n",
      "   [  0.   0.   0.]\n",
      "   [  0.   0.   0.]]\n",
      "\n",
      "  [[  0.   0.  85.]\n",
      "   [  0.   0.   0.]\n",
      "   [  0.   0.   0.]]]\n",
      "\n",
      "\n",
      " [[[  0.   0.   0.]\n",
      "   [ 85.   0.   0.]\n",
      "   [  0.   0.   0.]]\n",
      "\n",
      "  [[  0.   0.   0.]\n",
      "   [  0. 208.   0.]\n",
      "   [  0.   0.   0.]]\n",
      "\n",
      "  [[  0.   0.   0.]\n",
      "   [  0.   0. 320.]\n",
      "   [  0.   0.   0.]]]\n",
      "\n",
      "\n",
      " [[[  0.   0.   0.]\n",
      "   [  0.   0.   0.]\n",
      "   [ 33.   0.   0.]]\n",
      "\n",
      "  [[  0.   0.   0.]\n",
      "   [  0.   0.   0.]\n",
      "   [  0.  33.   0.]]\n",
      "\n",
      "  [[  0.   0.   0.]\n",
      "   [  0.   0.   0.]\n",
      "   [  0.   0. 133.]]]]\n",
      "(3, 3, 3, 3)\n",
      "[[[  9.]\n",
      "  [ 16.]\n",
      "  [ 25.]]\n",
      "\n",
      " [[ 25.]\n",
      "  [ 64.]\n",
      "  [100.]]\n",
      "\n",
      " [[  9.]\n",
      "  [  9.]\n",
      "  [ 49.]]]\n"
     ]
    }
   ],
   "source": [
    "from jax import jacfwd, jacrev\n",
    "x = jnp.array([[3., 4., 5.],\n",
    "               [5., 8., 10.],\n",
    "               [3., 3., -7.]])\n",
    "w = jnp.array([1.0])\n",
    "x_grad = jacrev(simplefun, argnums=0)(x,w)\n",
    "w_grad = jacrev(simplefun, argnums=1)(x,w)\n",
    "print(simplefun(x,w))\n",
    "print(\"jacrev result:\")\n",
    "print(x_grad)\n",
    "print(x_grad.shape)\n",
    "print(w_grad)"
   ]
  },
  {
   "cell_type": "markdown",
   "id": "2f59f2be",
   "metadata": {},
   "source": [
    "# VJP"
   ]
  },
  {
   "cell_type": "code",
   "execution_count": 13,
   "id": "2f500e72",
   "metadata": {},
   "outputs": [],
   "source": [
    "import jax.numpy as jnp\n",
    "from jax import grad, jit, vmap\n",
    "from jax import random\n",
    "from jax import vjp\n",
    "key = random.PRNGKey(0)"
   ]
  },
  {
   "cell_type": "code",
   "execution_count": 4,
   "id": "eaf6fdaa",
   "metadata": {},
   "outputs": [],
   "source": [
    "def sigmoid(x):\n",
    "    return 0.5 * (jnp.tanh(x / 2) + 1)\n",
    "\n",
    "# Outputs probability of a label being true.\n",
    "def predict(W, b, inputs):\n",
    "    return sigmoid(jnp.dot(inputs, W) + b)"
   ]
  },
  {
   "cell_type": "code",
   "execution_count": 5,
   "id": "1cf72b86",
   "metadata": {},
   "outputs": [],
   "source": [
    "def loss(W, b):\n",
    "    preds = predict(W, b, inputs)\n",
    "    label_probs = preds * targets + (1 - preds) * (1 - targets)\n",
    "    return -jnp.sum(jnp.log(label_probs))"
   ]
  },
  {
   "cell_type": "code",
   "execution_count": 6,
   "id": "0bc2c271",
   "metadata": {},
   "outputs": [],
   "source": [
    "f = lambda W: predict(W, b, inputs)"
   ]
  },
  {
   "cell_type": "code",
   "execution_count": 14,
   "id": "803ddb67",
   "metadata": {},
   "outputs": [],
   "source": [
    "key, W_key, b_key = random.split(key, 3)\n",
    "W = random.normal(W_key, (3,))\n",
    "b = random.normal(b_key, ())\n",
    "inputs = jnp.array([[0.52, 1.12,  0.77],\n",
    "                   [0.88, -1.08, 0.15],\n",
    "                   [0.52, 0.06, -1.30],\n",
    "                   [0.74, -2.49, 1.39]])\n",
    "targets = jnp.array([True, True, False, True])"
   ]
  },
  {
   "cell_type": "code",
   "execution_count": 16,
   "id": "aad5eccf",
   "metadata": {},
   "outputs": [],
   "source": [
    "y, vjp_fun = vjp(f, W)"
   ]
  },
  {
   "cell_type": "code",
   "execution_count": 18,
   "id": "c7c0696a",
   "metadata": {},
   "outputs": [
    {
     "name": "stdout",
     "output_type": "stream",
     "text": [
      "[1082916127 1719789088] [3156601263 2504717133]\n",
      "[-0.7607929  -0.5476383   0.08130554  0.2596837 ]\n"
     ]
    }
   ],
   "source": [
    "key, subkey = random.split(key)\n",
    "u = random.normal(subkey, y.shape)\n",
    "print(key, subkey)\n",
    "print(u)"
   ]
  },
  {
   "cell_type": "code",
   "execution_count": 20,
   "id": "409e7a8f",
   "metadata": {},
   "outputs": [
    {
     "data": {
      "text/plain": [
       "(DeviceArray([-0.05722704, -0.07111153, -0.09522615], dtype=float32),)"
      ]
     },
     "execution_count": 20,
     "metadata": {},
     "output_type": "execute_result"
    }
   ],
   "source": [
    "v = vjp_fun(u)\n",
    "v"
   ]
  }
 ],
 "metadata": {
  "kernelspec": {
   "display_name": "Python 3 (ipykernel)",
   "language": "python",
   "name": "python3"
  },
  "language_info": {
   "codemirror_mode": {
    "name": "ipython",
    "version": 3
   },
   "file_extension": ".py",
   "mimetype": "text/x-python",
   "name": "python",
   "nbconvert_exporter": "python",
   "pygments_lexer": "ipython3",
   "version": "3.8.10"
  }
 },
 "nbformat": 4,
 "nbformat_minor": 5
}
