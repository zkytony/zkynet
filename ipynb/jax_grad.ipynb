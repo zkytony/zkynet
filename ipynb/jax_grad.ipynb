{
 "cells": [
  {
   "cell_type": "markdown",
   "id": "465906e3",
   "metadata": {},
   "source": [
    "# JAX differentiation"
   ]
  },
  {
   "cell_type": "code",
   "execution_count": 22,
   "id": "a1f01ceb",
   "metadata": {},
   "outputs": [],
   "source": [
    "import jax.numpy as jnp\n",
    "from jax import grad, jit, vmap\n",
    "from jax import random"
   ]
  },
  {
   "cell_type": "markdown",
   "id": "c85ce093",
   "metadata": {},
   "source": [
    "## Scalar function"
   ]
  },
  {
   "cell_type": "code",
   "execution_count": 23,
   "id": "7acdb387",
   "metadata": {},
   "outputs": [],
   "source": [
    "def simplefun(x,w):\n",
    "    return (x + w) * x**2"
   ]
  },
  {
   "cell_type": "code",
   "execution_count": 8,
   "id": "d1d10f39",
   "metadata": {},
   "outputs": [
    {
     "name": "stdout",
     "output_type": "stream",
     "text": [
      "33.0\n",
      "9.0\n"
     ]
    }
   ],
   "source": [
    "# gradient\n",
    "x = jnp.array(3.0)\n",
    "w = jnp.array(1.0)\n",
    "x_grad = grad(simplefun, argnums=0)(x,w)\n",
    "w_grad = grad(simplefun, argnums=1)(x,w)\n",
    "print(x_grad)\n",
    "print(w_grad)"
   ]
  },
  {
   "cell_type": "markdown",
   "id": "7cb13c97",
   "metadata": {},
   "source": [
    "## Vector function"
   ]
  },
  {
   "cell_type": "markdown",
   "id": "ef224d87",
   "metadata": {},
   "source": [
    "From the [documentation](https://jax.readthedocs.io/en/latest/notebooks/autodiff_cookbook.html): These two functions (`jacfwd`, `jacrev`) compute the same values (up to machine numerics), but differ in their implementation: jacfwd uses forward-mode automatic differentiation, which is more efficient for “tall” Jacobian matrices, while jacrev uses reverse-mode, which is more efficient for “wide” Jacobian matrices."
   ]
  },
  {
   "cell_type": "code",
   "execution_count": 13,
   "id": "b14bca25",
   "metadata": {},
   "outputs": [
    {
     "name": "stdout",
     "output_type": "stream",
     "text": [
      "jacrev result:\n",
      "[[33.   0.   0. ]\n",
      " [ 0.   1.   0. ]\n",
      " [ 0.   0.  20.8]]\n",
      "[[9. 0. 0.]\n",
      " [0. 1. 0.]\n",
      " [0. 0. 4.]]\n",
      "\n",
      "jacfwd result:\n",
      "[[33.   0.   0. ]\n",
      " [ 0.   1.   0. ]\n",
      " [ 0.   0.  20.8]]\n",
      "[[9. 0. 0.]\n",
      " [0. 1. 0.]\n",
      " [0. 0. 4.]]\n"
     ]
    }
   ],
   "source": [
    "from jax import jacfwd, jacrev\n",
    "x = jnp.array([3.0, 1.0, 2.0])\n",
    "w = jnp.array([1.0, -1.0, 2.2])\n",
    "x_grad = jacrev(simplefun, argnums=0)(x,w)\n",
    "w_grad = jacrev(simplefun, argnums=1)(x,w)\n",
    "print(\"jacrev result:\")\n",
    "print(x_grad)\n",
    "print(w_grad)\n",
    "\n",
    "print(\"\\njacfwd result:\")\n",
    "x_grad = jacfwd(simplefun, argnums=0)(x,w)\n",
    "w_grad = jacfwd(simplefun, argnums=1)(x,w)\n",
    "print(x_grad)\n",
    "print(w_grad)"
   ]
  },
  {
   "cell_type": "markdown",
   "id": "1d69381f",
   "metadata": {},
   "source": [
    "## How Far Can This Go?"
   ]
  },
  {
   "cell_type": "markdown",
   "id": "c4bcb753",
   "metadata": {},
   "source": [
    "The answer is: as far as you'd like! That is the real tensor-based Jacobian that is implemented. I am not going to do it, because I don't know the math."
   ]
  },
  {
   "cell_type": "code",
   "execution_count": 19,
   "id": "7cce45d1",
   "metadata": {},
   "outputs": [
    {
     "name": "stdout",
     "output_type": "stream",
     "text": [
      "[[[[ 5.0000000e+00  0.0000000e+00  0.0000000e+00]\n",
      "   [ 0.0000000e+00  0.0000000e+00  0.0000000e+00]\n",
      "   [ 0.0000000e+00  0.0000000e+00  0.0000000e+00]]\n",
      "\n",
      "  [[ 0.0000000e+00  4.0000000e+01  0.0000000e+00]\n",
      "   [ 0.0000000e+00  0.0000000e+00  0.0000000e+00]\n",
      "   [ 0.0000000e+00  0.0000000e+00  0.0000000e+00]]\n",
      "\n",
      "  [[ 0.0000000e+00  0.0000000e+00  4.0199997e+01]\n",
      "   [ 0.0000000e+00  0.0000000e+00  0.0000000e+00]\n",
      "   [ 0.0000000e+00  0.0000000e+00  0.0000000e+00]]]\n",
      "\n",
      "\n",
      " [[[ 0.0000000e+00  0.0000000e+00  0.0000000e+00]\n",
      "   [ 4.5600000e+02  0.0000000e+00  0.0000000e+00]\n",
      "   [ 0.0000000e+00  0.0000000e+00  0.0000000e+00]]\n",
      "\n",
      "  [[ 0.0000000e+00  0.0000000e+00  0.0000000e+00]\n",
      "   [ 0.0000000e+00  5.2080000e+03  0.0000000e+00]\n",
      "   [ 0.0000000e+00  0.0000000e+00  0.0000000e+00]]\n",
      "\n",
      "  [[ 0.0000000e+00  0.0000000e+00  0.0000000e+00]\n",
      "   [ 0.0000000e+00  0.0000000e+00 -1.4000001e+00]\n",
      "   [ 0.0000000e+00  0.0000000e+00  0.0000000e+00]]]\n",
      "\n",
      "\n",
      " [[[ 0.0000000e+00  0.0000000e+00  0.0000000e+00]\n",
      "   [ 0.0000000e+00  0.0000000e+00  0.0000000e+00]\n",
      "   [-2.5000000e-01  0.0000000e+00  0.0000000e+00]]\n",
      "\n",
      "  [[ 0.0000000e+00  0.0000000e+00  0.0000000e+00]\n",
      "   [ 0.0000000e+00  0.0000000e+00  0.0000000e+00]\n",
      "   [ 0.0000000e+00  1.6000000e+01  0.0000000e+00]]\n",
      "\n",
      "  [[ 0.0000000e+00  0.0000000e+00  0.0000000e+00]\n",
      "   [ 0.0000000e+00  0.0000000e+00  0.0000000e+00]\n",
      "   [ 0.0000000e+00  0.0000000e+00  4.0199997e+01]]]]\n",
      "(3, 3, 3, 3)\n"
     ]
    }
   ],
   "source": [
    "x = jnp.array([[1.,4.,3.],\n",
    "               [12.,42.,-1.],\n",
    "               [-.5, -2, 3]])\n",
    "w = jnp.array([1.0, -1.0, 2.2])\n",
    "x_grad = jacrev(simplefun, argnums=0)(x,w)\n",
    "print(x_grad)\n",
    "print(x_grad.shape)"
   ]
  },
  {
   "cell_type": "code",
   "execution_count": 22,
   "id": "4b8112d1",
   "metadata": {},
   "outputs": [
    {
     "name": "stdout",
     "output_type": "stream",
     "text": [
      "[[[[[[ 5.0000000e+00  0.0000000e+00  0.0000000e+00]\n",
      "     [ 0.0000000e+00  0.0000000e+00  0.0000000e+00]\n",
      "     [ 0.0000000e+00  0.0000000e+00  0.0000000e+00]]\n",
      "\n",
      "    [[ 0.0000000e+00  0.0000000e+00  0.0000000e+00]\n",
      "     [ 0.0000000e+00  0.0000000e+00  0.0000000e+00]\n",
      "     [ 0.0000000e+00  0.0000000e+00  0.0000000e+00]]]\n",
      "\n",
      "\n",
      "   [[[ 0.0000000e+00  4.0000000e+01  0.0000000e+00]\n",
      "     [ 0.0000000e+00  0.0000000e+00  0.0000000e+00]\n",
      "     [ 0.0000000e+00  0.0000000e+00  0.0000000e+00]]\n",
      "\n",
      "    [[ 0.0000000e+00  0.0000000e+00  0.0000000e+00]\n",
      "     [ 0.0000000e+00  0.0000000e+00  0.0000000e+00]\n",
      "     [ 0.0000000e+00  0.0000000e+00  0.0000000e+00]]]\n",
      "\n",
      "\n",
      "   [[[ 0.0000000e+00  0.0000000e+00  4.0199997e+01]\n",
      "     [ 0.0000000e+00  0.0000000e+00  0.0000000e+00]\n",
      "     [ 0.0000000e+00  0.0000000e+00  0.0000000e+00]]\n",
      "\n",
      "    [[ 0.0000000e+00  0.0000000e+00  0.0000000e+00]\n",
      "     [ 0.0000000e+00  0.0000000e+00  0.0000000e+00]\n",
      "     [ 0.0000000e+00  0.0000000e+00  0.0000000e+00]]]]\n",
      "\n",
      "\n",
      "\n",
      "  [[[[ 0.0000000e+00  0.0000000e+00  0.0000000e+00]\n",
      "     [ 4.5600000e+02  0.0000000e+00  0.0000000e+00]\n",
      "     [ 0.0000000e+00  0.0000000e+00  0.0000000e+00]]\n",
      "\n",
      "    [[ 0.0000000e+00  0.0000000e+00  0.0000000e+00]\n",
      "     [ 0.0000000e+00  0.0000000e+00  0.0000000e+00]\n",
      "     [ 0.0000000e+00  0.0000000e+00  0.0000000e+00]]]\n",
      "\n",
      "\n",
      "   [[[ 0.0000000e+00  0.0000000e+00  0.0000000e+00]\n",
      "     [ 0.0000000e+00  5.2080000e+03  0.0000000e+00]\n",
      "     [ 0.0000000e+00  0.0000000e+00  0.0000000e+00]]\n",
      "\n",
      "    [[ 0.0000000e+00  0.0000000e+00  0.0000000e+00]\n",
      "     [ 0.0000000e+00  0.0000000e+00  0.0000000e+00]\n",
      "     [ 0.0000000e+00  0.0000000e+00  0.0000000e+00]]]\n",
      "\n",
      "\n",
      "   [[[ 0.0000000e+00  0.0000000e+00  0.0000000e+00]\n",
      "     [ 0.0000000e+00  0.0000000e+00 -1.4000001e+00]\n",
      "     [ 0.0000000e+00  0.0000000e+00  0.0000000e+00]]\n",
      "\n",
      "    [[ 0.0000000e+00  0.0000000e+00  0.0000000e+00]\n",
      "     [ 0.0000000e+00  0.0000000e+00  0.0000000e+00]\n",
      "     [ 0.0000000e+00  0.0000000e+00  0.0000000e+00]]]]\n",
      "\n",
      "\n",
      "\n",
      "  [[[[ 0.0000000e+00  0.0000000e+00  0.0000000e+00]\n",
      "     [ 0.0000000e+00  0.0000000e+00  0.0000000e+00]\n",
      "     [-2.5000000e-01  0.0000000e+00  0.0000000e+00]]\n",
      "\n",
      "    [[ 0.0000000e+00  0.0000000e+00  0.0000000e+00]\n",
      "     [ 0.0000000e+00  0.0000000e+00  0.0000000e+00]\n",
      "     [ 0.0000000e+00  0.0000000e+00  0.0000000e+00]]]\n",
      "\n",
      "\n",
      "   [[[ 0.0000000e+00  0.0000000e+00  0.0000000e+00]\n",
      "     [ 0.0000000e+00  0.0000000e+00  0.0000000e+00]\n",
      "     [ 0.0000000e+00  1.6000000e+01  0.0000000e+00]]\n",
      "\n",
      "    [[ 0.0000000e+00  0.0000000e+00  0.0000000e+00]\n",
      "     [ 0.0000000e+00  0.0000000e+00  0.0000000e+00]\n",
      "     [ 0.0000000e+00  0.0000000e+00  0.0000000e+00]]]\n",
      "\n",
      "\n",
      "   [[[ 0.0000000e+00  0.0000000e+00  0.0000000e+00]\n",
      "     [ 0.0000000e+00  0.0000000e+00  0.0000000e+00]\n",
      "     [ 0.0000000e+00  0.0000000e+00  4.0199997e+01]]\n",
      "\n",
      "    [[ 0.0000000e+00  0.0000000e+00  0.0000000e+00]\n",
      "     [ 0.0000000e+00  0.0000000e+00  0.0000000e+00]\n",
      "     [ 0.0000000e+00  0.0000000e+00  0.0000000e+00]]]]]\n",
      "\n",
      "\n",
      "\n",
      "\n",
      " [[[[[ 0.0000000e+00  0.0000000e+00  0.0000000e+00]\n",
      "     [ 0.0000000e+00  0.0000000e+00  0.0000000e+00]\n",
      "     [ 0.0000000e+00  0.0000000e+00  0.0000000e+00]]\n",
      "\n",
      "    [[ 8.5000000e+01  0.0000000e+00  0.0000000e+00]\n",
      "     [ 0.0000000e+00  0.0000000e+00  0.0000000e+00]\n",
      "     [ 0.0000000e+00  0.0000000e+00  0.0000000e+00]]]\n",
      "\n",
      "\n",
      "   [[[ 0.0000000e+00  0.0000000e+00  0.0000000e+00]\n",
      "     [ 0.0000000e+00  0.0000000e+00  0.0000000e+00]\n",
      "     [ 0.0000000e+00  0.0000000e+00  0.0000000e+00]]\n",
      "\n",
      "    [[ 0.0000000e+00  4.0000000e+01  0.0000000e+00]\n",
      "     [ 0.0000000e+00  0.0000000e+00  0.0000000e+00]\n",
      "     [ 0.0000000e+00  0.0000000e+00  0.0000000e+00]]]\n",
      "\n",
      "\n",
      "   [[[ 0.0000000e+00  0.0000000e+00  0.0000000e+00]\n",
      "     [ 0.0000000e+00  0.0000000e+00  0.0000000e+00]\n",
      "     [ 0.0000000e+00  0.0000000e+00  0.0000000e+00]]\n",
      "\n",
      "    [[ 0.0000000e+00  0.0000000e+00  4.0199997e+01]\n",
      "     [ 0.0000000e+00  0.0000000e+00  0.0000000e+00]\n",
      "     [ 0.0000000e+00  0.0000000e+00  0.0000000e+00]]]]\n",
      "\n",
      "\n",
      "\n",
      "  [[[[ 0.0000000e+00  0.0000000e+00  0.0000000e+00]\n",
      "     [ 0.0000000e+00  0.0000000e+00  0.0000000e+00]\n",
      "     [ 0.0000000e+00  0.0000000e+00  0.0000000e+00]]\n",
      "\n",
      "    [[ 0.0000000e+00  0.0000000e+00  0.0000000e+00]\n",
      "     [ 1.1210000e+03  0.0000000e+00  0.0000000e+00]\n",
      "     [ 0.0000000e+00  0.0000000e+00  0.0000000e+00]]]\n",
      "\n",
      "\n",
      "   [[[ 0.0000000e+00  0.0000000e+00  0.0000000e+00]\n",
      "     [ 0.0000000e+00  0.0000000e+00  0.0000000e+00]\n",
      "     [ 0.0000000e+00  0.0000000e+00  0.0000000e+00]]\n",
      "\n",
      "    [[ 0.0000000e+00  0.0000000e+00  0.0000000e+00]\n",
      "     [ 0.0000000e+00  3.0080000e+03  0.0000000e+00]\n",
      "     [ 0.0000000e+00  0.0000000e+00  0.0000000e+00]]]\n",
      "\n",
      "\n",
      "   [[[ 0.0000000e+00  0.0000000e+00  0.0000000e+00]\n",
      "     [ 0.0000000e+00  0.0000000e+00  0.0000000e+00]\n",
      "     [ 0.0000000e+00  0.0000000e+00  0.0000000e+00]]\n",
      "\n",
      "    [[ 0.0000000e+00  0.0000000e+00  0.0000000e+00]\n",
      "     [ 0.0000000e+00  0.0000000e+00 -1.4000001e+00]\n",
      "     [ 0.0000000e+00  0.0000000e+00  0.0000000e+00]]]]\n",
      "\n",
      "\n",
      "\n",
      "  [[[[ 0.0000000e+00  0.0000000e+00  0.0000000e+00]\n",
      "     [ 0.0000000e+00  0.0000000e+00  0.0000000e+00]\n",
      "     [ 0.0000000e+00  0.0000000e+00  0.0000000e+00]]\n",
      "\n",
      "    [[ 0.0000000e+00  0.0000000e+00  0.0000000e+00]\n",
      "     [ 0.0000000e+00  0.0000000e+00  0.0000000e+00]\n",
      "     [-2.5000000e-01  0.0000000e+00  0.0000000e+00]]]\n",
      "\n",
      "\n",
      "   [[[ 0.0000000e+00  0.0000000e+00  0.0000000e+00]\n",
      "     [ 0.0000000e+00  0.0000000e+00  0.0000000e+00]\n",
      "     [ 0.0000000e+00  0.0000000e+00  0.0000000e+00]]\n",
      "\n",
      "    [[ 0.0000000e+00  0.0000000e+00  0.0000000e+00]\n",
      "     [ 0.0000000e+00  0.0000000e+00  0.0000000e+00]\n",
      "     [ 0.0000000e+00  2.4699998e+00  0.0000000e+00]]]\n",
      "\n",
      "\n",
      "   [[[ 0.0000000e+00  0.0000000e+00  0.0000000e+00]\n",
      "     [ 0.0000000e+00  0.0000000e+00  0.0000000e+00]\n",
      "     [ 0.0000000e+00  0.0000000e+00  0.0000000e+00]]\n",
      "\n",
      "    [[ 0.0000000e+00  0.0000000e+00  0.0000000e+00]\n",
      "     [ 0.0000000e+00  0.0000000e+00  0.0000000e+00]\n",
      "     [ 0.0000000e+00  0.0000000e+00  4.0199997e+01]]]]]]\n",
      "(2, 3, 3, 2, 3, 3)\n"
     ]
    }
   ],
   "source": [
    "x = jnp.array([[[1.,4.,3.],\n",
    "                [12.,42.,-1.],\n",
    "                [-.5, -2, 3]],\n",
    "              \n",
    "               [[5.,4.,3.],\n",
    "                [19.,32.,-1.],\n",
    "                [-.5, 1.3, 3]]])\n",
    "w = jnp.array([1.0, -1.0, 2.2])\n",
    "x_grad = jacrev(simplefun, argnums=0)(x,w)\n",
    "print(x_grad)\n",
    "print(x_grad.shape)"
   ]
  },
  {
   "cell_type": "markdown",
   "id": "4351b2c0",
   "metadata": {},
   "source": [
    "# JAX Jacobian for Operations"
   ]
  },
  {
   "cell_type": "markdown",
   "id": "12844ad0",
   "metadata": {},
   "source": [
    "This is so simple and cool!"
   ]
  },
  {
   "cell_type": "code",
   "execution_count": 23,
   "id": "c60cbe94",
   "metadata": {},
   "outputs": [],
   "source": [
    "def multiply(a,b):\n",
    "    return jnp.dot(a, b)"
   ]
  },
  {
   "cell_type": "code",
   "execution_count": 27,
   "id": "c69b0bf7",
   "metadata": {},
   "outputs": [
    {
     "data": {
      "text/plain": [
       "<function __main__.multiply(a, b)>"
      ]
     },
     "execution_count": 27,
     "metadata": {},
     "output_type": "execute_result"
    }
   ],
   "source": [
    "grad(multiply)"
   ]
  },
  {
   "cell_type": "code",
   "execution_count": 30,
   "id": "79cf83e4",
   "metadata": {},
   "outputs": [
    {
     "data": {
      "text/plain": [
       "DeviceArray([3., 4.], dtype=float32)"
      ]
     },
     "execution_count": 30,
     "metadata": {},
     "output_type": "execute_result"
    }
   ],
   "source": [
    "grad(multiply)(jnp.array([1.,2.]), jnp.array([3.,4]))"
   ]
  },
  {
   "cell_type": "code",
   "execution_count": 31,
   "id": "381e7bc7",
   "metadata": {},
   "outputs": [
    {
     "data": {
      "text/plain": [
       "<function jax._src.api.grad(fun: Callable, argnums: Union[int, Sequence[int]] = 0, has_aux: bool = False, holomorphic: bool = False, allow_int: bool = False, reduce_axes: Sequence[Any] = ()) -> Callable>"
      ]
     },
     "execution_count": 31,
     "metadata": {},
     "output_type": "execute_result"
    }
   ],
   "source": [
    "import jax\n",
    "jax.grad"
   ]
  },
  {
   "cell_type": "markdown",
   "id": "5375b5cc",
   "metadata": {},
   "source": [
    "# Some other tests"
   ]
  },
  {
   "cell_type": "code",
   "execution_count": 40,
   "id": "b38770f6",
   "metadata": {},
   "outputs": [
    {
     "name": "stdout",
     "output_type": "stream",
     "text": [
      "jacrev result:\n",
      "[[33.  0.  0.]\n",
      " [ 0. 56.  0.]\n",
      " [ 0.  0. 85.]]\n",
      "[[ 9.]\n",
      " [16.]\n",
      " [25.]]\n",
      "\n",
      "jacfwd result:\n",
      "[[33.  0.  0.]\n",
      " [ 0. 56.  0.]\n",
      " [ 0.  0. 85.]]\n",
      "[[ 9.]\n",
      " [16.]\n",
      " [25.]]\n"
     ]
    }
   ],
   "source": [
    "from jax import jacfwd, jacrev\n",
    "x = jnp.array([3., 4., 5.])\n",
    "w = jnp.array([1.0])\n",
    "x_grad = jacrev(simplefun, argnums=0)(x,w)\n",
    "w_grad = jacrev(simplefun, argnums=1)(x,w)\n",
    "print(\"jacrev result:\")\n",
    "print(x_grad)\n",
    "print(w_grad)\n",
    "\n",
    "print(\"\\njacfwd result:\")\n",
    "x_grad = jacfwd(simplefun, argnums=0)(x,w)\n",
    "w_grad = jacfwd(simplefun, argnums=1)(x,w)\n",
    "print(x_grad)\n",
    "print(w_grad)"
   ]
  },
  {
   "cell_type": "code",
   "execution_count": 33,
   "id": "d8254864",
   "metadata": {},
   "outputs": [
    {
     "data": {
      "text/plain": [
       "DeviceArray([ 36.,  80., 150.], dtype=float32)"
      ]
     },
     "execution_count": 33,
     "metadata": {},
     "output_type": "execute_result"
    }
   ],
   "source": [
    "simplefun(x,w)"
   ]
  },
  {
   "cell_type": "code",
   "execution_count": 34,
   "id": "10e51bef",
   "metadata": {},
   "outputs": [
    {
     "data": {
      "text/plain": [
       "DeviceArray([4., 5., 6.], dtype=float32)"
      ]
     },
     "execution_count": 34,
     "metadata": {},
     "output_type": "execute_result"
    }
   ],
   "source": [
    "x+w"
   ]
  },
  {
   "cell_type": "code",
   "execution_count": 35,
   "id": "4ca08aff",
   "metadata": {},
   "outputs": [
    {
     "data": {
      "text/plain": [
       "DeviceArray([ 9., 16., 25.], dtype=float32)"
      ]
     },
     "execution_count": 35,
     "metadata": {},
     "output_type": "execute_result"
    }
   ],
   "source": [
    "x**2"
   ]
  },
  {
   "cell_type": "code",
   "execution_count": 38,
   "id": "d238e34e",
   "metadata": {
    "scrolled": true
   },
   "outputs": [
    {
     "name": "stdout",
     "output_type": "stream",
     "text": [
      "[[  36.   80.  150.]\n",
      " [ 150.  576. 1100.]\n",
      " [  36.   36. -294.]]\n",
      "jacrev result:\n",
      "[[[[ 33.   0.   0.]\n",
      "   [  0.   0.   0.]\n",
      "   [  0.   0.   0.]]\n",
      "\n",
      "  [[  0.  56.   0.]\n",
      "   [  0.   0.   0.]\n",
      "   [  0.   0.   0.]]\n",
      "\n",
      "  [[  0.   0.  85.]\n",
      "   [  0.   0.   0.]\n",
      "   [  0.   0.   0.]]]\n",
      "\n",
      "\n",
      " [[[  0.   0.   0.]\n",
      "   [ 85.   0.   0.]\n",
      "   [  0.   0.   0.]]\n",
      "\n",
      "  [[  0.   0.   0.]\n",
      "   [  0. 208.   0.]\n",
      "   [  0.   0.   0.]]\n",
      "\n",
      "  [[  0.   0.   0.]\n",
      "   [  0.   0. 320.]\n",
      "   [  0.   0.   0.]]]\n",
      "\n",
      "\n",
      " [[[  0.   0.   0.]\n",
      "   [  0.   0.   0.]\n",
      "   [ 33.   0.   0.]]\n",
      "\n",
      "  [[  0.   0.   0.]\n",
      "   [  0.   0.   0.]\n",
      "   [  0.  33.   0.]]\n",
      "\n",
      "  [[  0.   0.   0.]\n",
      "   [  0.   0.   0.]\n",
      "   [  0.   0. 133.]]]]\n",
      "(3, 3, 3, 3)\n",
      "[[[  9.]\n",
      "  [ 16.]\n",
      "  [ 25.]]\n",
      "\n",
      " [[ 25.]\n",
      "  [ 64.]\n",
      "  [100.]]\n",
      "\n",
      " [[  9.]\n",
      "  [  9.]\n",
      "  [ 49.]]]\n"
     ]
    }
   ],
   "source": [
    "from jax import jacfwd, jacrev\n",
    "x = jnp.array([[3., 4., 5.],\n",
    "               [5., 8., 10.],\n",
    "               [3., 3., -7.]])\n",
    "w = jnp.array([1.0])\n",
    "x_grad = jacrev(simplefun, argnums=0)(x,w)\n",
    "w_grad = jacrev(simplefun, argnums=1)(x,w)\n",
    "print(simplefun(x,w))\n",
    "print(\"jacrev result:\")\n",
    "print(x_grad)\n",
    "print(x_grad.shape)\n",
    "print(w_grad)"
   ]
  },
  {
   "cell_type": "markdown",
   "id": "2f59f2be",
   "metadata": {},
   "source": [
    "# VJP"
   ]
  },
  {
   "cell_type": "code",
   "execution_count": 5,
   "id": "2f500e72",
   "metadata": {},
   "outputs": [],
   "source": [
    "import jax.numpy as jnp\n",
    "from jax import grad, jit, vmap\n",
    "from jax import random\n",
    "from jax import vjp\n",
    "key = random.PRNGKey(0)"
   ]
  },
  {
   "cell_type": "code",
   "execution_count": 4,
   "id": "eaf6fdaa",
   "metadata": {},
   "outputs": [],
   "source": [
    "def sigmoid(x):\n",
    "    return 0.5 * (jnp.tanh(x / 2) + 1)\n",
    "\n",
    "# Outputs probability of a label being true.\n",
    "def predict(W, b, inputs):\n",
    "    return sigmoid(jnp.dot(inputs, W) + b)"
   ]
  },
  {
   "cell_type": "code",
   "execution_count": 5,
   "id": "1cf72b86",
   "metadata": {},
   "outputs": [],
   "source": [
    "def loss(W, b):\n",
    "    preds = predict(W, b, inputs)\n",
    "    label_probs = preds * targets + (1 - preds) * (1 - targets)\n",
    "    return -jnp.sum(jnp.log(label_probs))"
   ]
  },
  {
   "cell_type": "code",
   "execution_count": 6,
   "id": "0bc2c271",
   "metadata": {},
   "outputs": [],
   "source": [
    "f = lambda W: predict(W, b, inputs)"
   ]
  },
  {
   "cell_type": "code",
   "execution_count": 8,
   "id": "803ddb67",
   "metadata": {},
   "outputs": [],
   "source": [
    "key, W_key, b_key = random.split(key, 3)\n",
    "W = random.normal(W_key, (3,))\n",
    "b = random.normal(b_key, ())\n",
    "inputs = jnp.array([[0.52, 1.12,  0.77],\n",
    "                   [0.88, -1.08, 0.15],\n",
    "                   [0.52, 0.06, -1.30],\n",
    "                   [0.74, -2.49, 1.39]])\n",
    "targets = jnp.array([True, True, False, True])"
   ]
  },
  {
   "cell_type": "code",
   "execution_count": 16,
   "id": "aad5eccf",
   "metadata": {},
   "outputs": [],
   "source": [
    "y, vjp_fun = vjp(f, W)"
   ]
  },
  {
   "cell_type": "code",
   "execution_count": 26,
   "id": "c7c0696a",
   "metadata": {},
   "outputs": [
    {
     "name": "stdout",
     "output_type": "stream",
     "text": [
      "[4129145630 3230929347] [1872224875  267770933]\n",
      "[-0.36838785 -2.275689    0.01144757]\n"
     ]
    }
   ],
   "source": [
    "key, subkey = random.split(key)\n",
    "u = random.normal(W_key, (3,))\n",
    "print(key, subkey)\n",
    "print(u)"
   ]
  },
  {
   "cell_type": "code",
   "execution_count": 31,
   "id": "409e7a8f",
   "metadata": {},
   "outputs": [
    {
     "ename": "ValueError",
     "evalue": "Shape of cotangent input to vjp pullback function (3,) must be the same as the shape of corresponding primal input ().",
     "output_type": "error",
     "traceback": [
      "\u001b[0;31m---------------------------------------------------------------------------\u001b[0m",
      "\u001b[0;31mValueError\u001b[0m                                Traceback (most recent call last)",
      "Input \u001b[0;32mIn [31]\u001b[0m, in \u001b[0;36m<cell line: 1>\u001b[0;34m()\u001b[0m\n\u001b[0;32m----> 1\u001b[0m v \u001b[38;5;241m=\u001b[39m \u001b[43mvjp_fun\u001b[49m\u001b[43m(\u001b[49m\u001b[43mu\u001b[49m\u001b[43m)\u001b[49m\n\u001b[1;32m      2\u001b[0m v\n",
      "File \u001b[0;32m/media/kz-wd-ssd/repo/zkynet/venv/zkynet/lib/python3.8/site-packages/jax/_src/tree_util.py:287\u001b[0m, in \u001b[0;36m_HashableCallableShim.__call__\u001b[0;34m(self, *args, **kw)\u001b[0m\n\u001b[1;32m    286\u001b[0m \u001b[38;5;28;01mdef\u001b[39;00m \u001b[38;5;21m__call__\u001b[39m(\u001b[38;5;28mself\u001b[39m, \u001b[38;5;241m*\u001b[39margs, \u001b[38;5;241m*\u001b[39m\u001b[38;5;241m*\u001b[39mkw):\n\u001b[0;32m--> 287\u001b[0m   \u001b[38;5;28;01mreturn\u001b[39;00m \u001b[38;5;28;43mself\u001b[39;49m\u001b[38;5;241;43m.\u001b[39;49m\u001b[43mfun\u001b[49m\u001b[43m(\u001b[49m\u001b[38;5;241;43m*\u001b[39;49m\u001b[43margs\u001b[49m\u001b[43m,\u001b[49m\u001b[43m \u001b[49m\u001b[38;5;241;43m*\u001b[39;49m\u001b[38;5;241;43m*\u001b[39;49m\u001b[43mkw\u001b[49m\u001b[43m)\u001b[49m\n",
      "File \u001b[0;32m/media/kz-wd-ssd/repo/zkynet/venv/zkynet/lib/python3.8/site-packages/jax/_src/api.py:2360\u001b[0m, in \u001b[0;36m_vjp_pullback_wrapper\u001b[0;34m(cotangent_dtypes, cotangent_shapes, io_tree, fun, py_args)\u001b[0m\n\u001b[1;32m   2355\u001b[0m     \u001b[38;5;28;01mraise\u001b[39;00m \u001b[38;5;167;01mTypeError\u001b[39;00m(\n\u001b[1;32m   2356\u001b[0m         \u001b[38;5;124mf\u001b[39m\u001b[38;5;124m\"\u001b[39m\u001b[38;5;124mType of cotangent input to vjp pullback function (\u001b[39m\u001b[38;5;132;01m{\u001b[39;00mct_dtype\u001b[38;5;132;01m}\u001b[39;00m\u001b[38;5;124m) is not \u001b[39m\u001b[38;5;124m\"\u001b[39m\n\u001b[1;32m   2357\u001b[0m         \u001b[38;5;124mf\u001b[39m\u001b[38;5;124m\"\u001b[39m\u001b[38;5;124mthe expected tangent type (\u001b[39m\u001b[38;5;132;01m{\u001b[39;00mexpected_tangent_dtype\u001b[38;5;132;01m}\u001b[39;00m\u001b[38;5;124m) of corresponding primal output \u001b[39m\u001b[38;5;124m\"\u001b[39m\n\u001b[1;32m   2358\u001b[0m         \u001b[38;5;124mf\u001b[39m\u001b[38;5;124m\"\u001b[39m\u001b[38;5;124mwith dtype \u001b[39m\u001b[38;5;132;01m{\u001b[39;00m_dtype(arg)\u001b[38;5;132;01m}\u001b[39;00m\u001b[38;5;124m.\u001b[39m\u001b[38;5;124m\"\u001b[39m)\n\u001b[1;32m   2359\u001b[0m   \u001b[38;5;28;01mif\u001b[39;00m np\u001b[38;5;241m.\u001b[39mshape(arg) \u001b[38;5;241m!=\u001b[39m ct_shape:\n\u001b[0;32m-> 2360\u001b[0m     \u001b[38;5;28;01mraise\u001b[39;00m \u001b[38;5;167;01mValueError\u001b[39;00m(\n\u001b[1;32m   2361\u001b[0m         \u001b[38;5;124mf\u001b[39m\u001b[38;5;124m\"\u001b[39m\u001b[38;5;124mShape of cotangent input to vjp pullback function \u001b[39m\u001b[38;5;132;01m{\u001b[39;00mnp\u001b[38;5;241m.\u001b[39mshape(arg)\u001b[38;5;132;01m}\u001b[39;00m\u001b[38;5;124m \u001b[39m\u001b[38;5;124m\"\u001b[39m\n\u001b[1;32m   2362\u001b[0m         \u001b[38;5;124m\"\u001b[39m\u001b[38;5;124mmust be the same as the shape of corresponding primal input \u001b[39m\u001b[38;5;124m\"\u001b[39m\n\u001b[1;32m   2363\u001b[0m         \u001b[38;5;124mf\u001b[39m\u001b[38;5;124m\"\u001b[39m\u001b[38;5;132;01m{\u001b[39;00mct_shape\u001b[38;5;132;01m}\u001b[39;00m\u001b[38;5;124m.\u001b[39m\u001b[38;5;124m\"\u001b[39m)\n\u001b[1;32m   2364\u001b[0m ans \u001b[38;5;241m=\u001b[39m fun(\u001b[38;5;241m*\u001b[39margs)\n\u001b[1;32m   2365\u001b[0m \u001b[38;5;28;01mreturn\u001b[39;00m tree_unflatten(out_tree, ans)\n",
      "\u001b[0;31mValueError\u001b[0m: Shape of cotangent input to vjp pullback function (3,) must be the same as the shape of corresponding primal input ()."
     ]
    }
   ],
   "source": [
    "v = vjp_fun(u)\n",
    "v"
   ]
  },
  {
   "cell_type": "markdown",
   "id": "8bc1fff0",
   "metadata": {},
   "source": [
    "From Matthieu Blondel's example. I am matching his definition of vjp with the built-in vjp function"
   ]
  },
  {
   "cell_type": "code",
   "execution_count": 1,
   "id": "709fb9a3",
   "metadata": {},
   "outputs": [],
   "source": [
    "def dot(x, W):\n",
    "    return jnp.dot(W, x)"
   ]
  },
  {
   "cell_type": "code",
   "execution_count": 19,
   "id": "3655a152",
   "metadata": {},
   "outputs": [],
   "source": [
    "def dot_make_vjp(x, W):\n",
    "    def vjp(u):\n",
    "        return W.T.dot(u), jnp.outer(u, x)\n",
    "    return vjp"
   ]
  },
  {
   "cell_type": "code",
   "execution_count": 22,
   "id": "64d3d9a5",
   "metadata": {},
   "outputs": [],
   "source": [
    "dot.make_vjp = dot_make_vjp"
   ]
  },
  {
   "cell_type": "code",
   "execution_count": 32,
   "id": "61198938",
   "metadata": {},
   "outputs": [],
   "source": [
    "x = jnp.array([0.52, 1.12,  0.77])"
   ]
  },
  {
   "cell_type": "code",
   "execution_count": 9,
   "id": "56cb9d07",
   "metadata": {},
   "outputs": [
    {
     "data": {
      "text/plain": [
       "<function __main__.dot_make_vjp.<locals>.vjp(u)>"
      ]
     },
     "execution_count": 9,
     "metadata": {},
     "output_type": "execute_result"
    }
   ],
   "source": [
    "dot.make_vjp(x, W)"
   ]
  },
  {
   "cell_type": "code",
   "execution_count": 33,
   "id": "d24c7e35",
   "metadata": {},
   "outputs": [],
   "source": [
    "y, vjp_fun = vjp(dot, x, W)"
   ]
  },
  {
   "cell_type": "code",
   "execution_count": 34,
   "id": "740ffc4c",
   "metadata": {},
   "outputs": [],
   "source": [
    "u = random.normal(subkey, y.shape)"
   ]
  },
  {
   "cell_type": "code",
   "execution_count": 35,
   "id": "7605bd58",
   "metadata": {},
   "outputs": [
    {
     "data": {
      "text/plain": [
       "(DeviceArray([ 0.10106743,  0.62433666, -0.00314065], dtype=float32),\n",
       " DeviceArray([-0.14266232, -0.3072727 , -0.21124996], dtype=float32))"
      ]
     },
     "execution_count": 35,
     "metadata": {},
     "output_type": "execute_result"
    }
   ],
   "source": [
    "vjp_fun(u)"
   ]
  },
  {
   "cell_type": "code",
   "execution_count": 36,
   "id": "9a08bb8c",
   "metadata": {},
   "outputs": [
    {
     "name": "stdout",
     "output_type": "stream",
     "text": [
      "-2.7315187\n"
     ]
    }
   ],
   "source": [
    "print(y)"
   ]
  },
  {
   "cell_type": "code",
   "execution_count": 29,
   "id": "c9c0b315",
   "metadata": {},
   "outputs": [],
   "source": [
    "custom_vjp_fun = dot.make_vjp(x, W)"
   ]
  },
  {
   "cell_type": "code",
   "execution_count": 30,
   "id": "3f6e0ed2",
   "metadata": {},
   "outputs": [
    {
     "data": {
      "text/plain": [
       "(DeviceArray(5.314601, dtype=float32),\n",
       " DeviceArray([[-0.19156167, -0.41259438, -0.28365862],\n",
       "              [-1.1833582 , -2.5487716 , -1.7522804 ],\n",
       "              [ 0.00595273,  0.01282127,  0.00881463]], dtype=float32))"
      ]
     },
     "execution_count": 30,
     "metadata": {},
     "output_type": "execute_result"
    }
   ],
   "source": [
    "custom_vjp_fun(u)"
   ]
  }
 ],
 "metadata": {
  "kernelspec": {
   "display_name": "Python 3 (ipykernel)",
   "language": "python",
   "name": "python3"
  },
  "language_info": {
   "codemirror_mode": {
    "name": "ipython",
    "version": 3
   },
   "file_extension": ".py",
   "mimetype": "text/x-python",
   "name": "python",
   "nbconvert_exporter": "python",
   "pygments_lexer": "ipython3",
   "version": "3.8.10"
  }
 },
 "nbformat": 4,
 "nbformat_minor": 5
}
